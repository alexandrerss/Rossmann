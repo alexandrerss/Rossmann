{
 "cells": [
  {
   "cell_type": "markdown",
   "metadata": {},
   "source": [
    "# 0.0 IMPORTAR BIBLIOTECAS"
   ]
  },
  {
   "cell_type": "code",
   "execution_count": 1,
   "metadata": {},
   "outputs": [],
   "source": [
    "import math\n",
    "import numpy as np\n",
    "import pandas as pd\n",
    "import inflection\n",
    "import seaborn as sns\n",
    "from matplotlib import pyplot as plt\n",
    "from IPython.core.display import HTML\n"
   ]
  },
  {
   "cell_type": "code",
   "execution_count": 2,
   "metadata": {},
   "outputs": [],
   "source": [
    "# Ajustar gráficos\n",
    "plt.rcParams['figure.figsize'] = [25, 12]\n",
    "plt.rcParams['font.size'] = 24\n"
   ]
  },
  {
   "cell_type": "markdown",
   "metadata": {},
   "source": [
    "## 0.1 Funções"
   ]
  },
  {
   "cell_type": "markdown",
   "metadata": {},
   "source": [
    "## 0.2 Carregar base de dados"
   ]
  },
  {
   "cell_type": "code",
   "execution_count": 4,
   "metadata": {},
   "outputs": [],
   "source": [
    "df_sales_raw = pd.read_csv( '../datasets/train.csv', low_memory=False )\n",
    "df_store_raw = pd.read_csv( '../datasets/store.csv', low_memory=False )\n",
    "\n",
    "# merge entre os dois dataframes\n",
    "df_raw = pd.merge( df_sales_raw, df_store_raw, how='left', on='Store' )"
   ]
  },
  {
   "cell_type": "markdown",
   "metadata": {},
   "source": [
    "# 1.0 DESCRICAO DOS DADOS"
   ]
  },
  {
   "cell_type": "code",
   "execution_count": 5,
   "metadata": {},
   "outputs": [],
   "source": [
    "df1 = df_raw.copy()"
   ]
  },
  {
   "cell_type": "code",
   "execution_count": 6,
   "metadata": {},
   "outputs": [],
   "source": [
    "# Renomear as colunas para mdoelo snakecase\n",
    "\n",
    "cols_old = df1.columns\n",
    "snakecase = lambda x: inflection.underscore( x )\n",
    "cols_new = list( map( snakecase, cols_old ) )\n",
    "df1.columns = cols_new"
   ]
  },
  {
   "cell_type": "markdown",
   "metadata": {},
   "source": [
    "## 1.2. Tamanho dos dados (shape)"
   ]
  },
  {
   "cell_type": "code",
   "execution_count": 9,
   "metadata": {},
   "outputs": [
    {
     "data": {
      "text/plain": [
       "(1017209, 18)"
      ]
     },
     "execution_count": 9,
     "metadata": {},
     "output_type": "execute_result"
    }
   ],
   "source": [
    "df1.shape"
   ]
  },
  {
   "cell_type": "code",
   "execution_count": 10,
   "metadata": {},
   "outputs": [
    {
     "name": "stdout",
     "output_type": "stream",
     "text": [
      "Number of Rows: 1017209\n",
      "Number of Cols: 18\n"
     ]
    }
   ],
   "source": [
    "print( 'Number of Rows: {}'.format( df1.shape[0] ) )\n",
    "print( 'Number of Cols: {}'.format( df1.shape[1] ) )"
   ]
  },
  {
   "cell_type": "markdown",
   "metadata": {},
   "source": [
    "## 1.3. Tipo dos Dados (Dtypes)"
   ]
  },
  {
   "cell_type": "code",
   "execution_count": 11,
   "metadata": {},
   "outputs": [
    {
     "data": {
      "text/plain": [
       "store                             int64\n",
       "day_of_week                       int64\n",
       "date                             object\n",
       "sales                             int64\n",
       "customers                         int64\n",
       "open                              int64\n",
       "promo                             int64\n",
       "state_holiday                    object\n",
       "school_holiday                    int64\n",
       "store_type                       object\n",
       "assortment                       object\n",
       "competition_distance            float64\n",
       "competition_open_since_month    float64\n",
       "competition_open_since_year     float64\n",
       "promo2                            int64\n",
       "promo2_since_week               float64\n",
       "promo2_since_year               float64\n",
       "promo_interval                   object\n",
       "dtype: object"
      ]
     },
     "execution_count": 11,
     "metadata": {},
     "output_type": "execute_result"
    }
   ],
   "source": [
    "df1.dtypes"
   ]
  },
  {
   "cell_type": "code",
   "execution_count": 12,
   "metadata": {},
   "outputs": [],
   "source": [
    "# Tranaformar a coluna Date para formato de data\n",
    "df1['date'] = pd.to_datetime( df1['date'] )\n"
   ]
  },
  {
   "cell_type": "markdown",
   "metadata": {},
   "source": [
    "## 1.4. Checagem de N/As"
   ]
  },
  {
   "cell_type": "code",
   "execution_count": 13,
   "metadata": {},
   "outputs": [
    {
     "data": {
      "text/plain": [
       "store                                0\n",
       "day_of_week                          0\n",
       "date                                 0\n",
       "sales                                0\n",
       "customers                            0\n",
       "open                                 0\n",
       "promo                                0\n",
       "state_holiday                        0\n",
       "school_holiday                       0\n",
       "store_type                           0\n",
       "assortment                           0\n",
       "competition_distance              2642\n",
       "competition_open_since_month    323348\n",
       "competition_open_since_year     323348\n",
       "promo2                               0\n",
       "promo2_since_week               508031\n",
       "promo2_since_year               508031\n",
       "promo_interval                  508031\n",
       "dtype: int64"
      ]
     },
     "execution_count": 13,
     "metadata": {},
     "output_type": "execute_result"
    }
   ],
   "source": [
    "df1.isna().sum()\n"
   ]
  },
  {
   "cell_type": "markdown",
   "metadata": {},
   "source": [
    "Como proceder para a retirada dos NAs ?\n",
    "\n",
    "- Descartar todas as linhas com NA.\n",
    "- Usando algoritmos de ML para inserir dados.\n",
    "- Entendendo o negócio para inserir dados."
   ]
  },
  {
   "cell_type": "markdown",
   "metadata": {},
   "source": [
    "## 1.5 Preencher os NA"
   ]
  },
  {
   "cell_type": "code",
   "execution_count": 14,
   "metadata": {},
   "outputs": [],
   "source": [
    "# competition_distance              \n",
    "### Para todos os campos NA nesta coluna considerar e inserir o valor de 200.000 (valor máximo escolhido para este df)\n",
    "df1['competition_distance'] = df1['competition_distance'].apply(lambda x: 200000 if math.isnan(x) else x )\n",
    "\n",
    "# competition_open_since_month  \n",
    "### Para todos os campos NA nesta coluna considerar e inserir o valor do mês da venda (Coluna \"date\").\n",
    "df1['competition_open_since_month'] = df1.apply(lambda x: x['date'].month if math.isnan(x['competition_open_since_month']) else x['competition_open_since_month'],axis=1)\n",
    "\n",
    "# competition_open_since_year       \n",
    "### Para todos os campos NA nesta coluna considerar e inserir o valor do ano da venda (Coluna \"date\").\n",
    "df1['competition_open_since_year'] = df1.apply(lambda x: x['date'].year if math.isnan(x['competition_open_since_year']) else x['competition_open_since_year'],axis=1)\n",
    "\n",
    "# promo2_since_week \n",
    "### Para todos os campos NA nesta coluna considerar e inserir o valor da semana da venda (Coluna \"date\").\n",
    "df1['promo2_since_week'] = df1.apply(lambda x: x['date'].week if math.isnan(x['promo2_since_week']) else x['promo2_since_week'],axis=1)\n",
    "\n",
    "# promo2_since_year\n",
    "### Para todos os campos NA nesta coluna considerar e inserir o valor do ano da venda (Coluna \"date\").\n",
    "df1['promo2_since_year'] = df1.apply(lambda x: x['date'].year if math.isnan(x['promo2_since_year']) else x['promo2_since_year'],axis=1)\n",
    "\n",
    "# promo_interval\n",
    "month_map = {1: 'Jan',2: 'Fev',3: 'Mar',4: 'Apr',5: 'May',6: 'Jun',7: 'Jul',8: 'Aug', 9: 'Sep',10: 'Oct',11: 'Nov',12: 'Dec'}\n",
    "df1['promo_interval'].fillna(0, inplace=True) # substituir todos os NA para 0 (zero)\n",
    "df1['month_map'] = df1['date'].dt.month.map(month_map) # criar uma nova coluna e inserir o mês da coluna \"Date\" conforme a variavel \"month_map\"\n",
    "df1['is_promo'] = df1[['promo_interval','month_map']].apply( lambda x: 0 if x['promo_interval'] == 0 else 1 if x['month_map'] in x['promo_interval'].split(',') else 0, axis=1)\n"
   ]
  },
  {
   "cell_type": "code",
   "execution_count": 15,
   "metadata": {},
   "outputs": [
    {
     "data": {
      "text/html": [
       "<div>\n",
       "<style scoped>\n",
       "    .dataframe tbody tr th:only-of-type {\n",
       "        vertical-align: middle;\n",
       "    }\n",
       "\n",
       "    .dataframe tbody tr th {\n",
       "        vertical-align: top;\n",
       "    }\n",
       "\n",
       "    .dataframe thead th {\n",
       "        text-align: right;\n",
       "    }\n",
       "</style>\n",
       "<table border=\"1\" class=\"dataframe\">\n",
       "  <thead>\n",
       "    <tr style=\"text-align: right;\">\n",
       "      <th></th>\n",
       "      <th>212283</th>\n",
       "      <th>230689</th>\n",
       "      <th>563421</th>\n",
       "      <th>82075</th>\n",
       "      <th>999712</th>\n",
       "    </tr>\n",
       "  </thead>\n",
       "  <tbody>\n",
       "    <tr>\n",
       "      <th>store</th>\n",
       "      <td>434</td>\n",
       "      <td>1000</td>\n",
       "      <td>17</td>\n",
       "      <td>681</td>\n",
       "      <td>343</td>\n",
       "    </tr>\n",
       "    <tr>\n",
       "      <th>day_of_week</th>\n",
       "      <td>4</td>\n",
       "      <td>2</td>\n",
       "      <td>2</td>\n",
       "      <td>2</td>\n",
       "      <td>3</td>\n",
       "    </tr>\n",
       "    <tr>\n",
       "      <th>date</th>\n",
       "      <td>2015-01-22 00:00:00</td>\n",
       "      <td>2015-01-06 00:00:00</td>\n",
       "      <td>2014-02-11 00:00:00</td>\n",
       "      <td>2015-05-19 00:00:00</td>\n",
       "      <td>2013-01-16 00:00:00</td>\n",
       "    </tr>\n",
       "    <tr>\n",
       "      <th>sales</th>\n",
       "      <td>8284</td>\n",
       "      <td>0</td>\n",
       "      <td>4934</td>\n",
       "      <td>4683</td>\n",
       "      <td>4333</td>\n",
       "    </tr>\n",
       "    <tr>\n",
       "      <th>customers</th>\n",
       "      <td>617</td>\n",
       "      <td>0</td>\n",
       "      <td>723</td>\n",
       "      <td>576</td>\n",
       "      <td>517</td>\n",
       "    </tr>\n",
       "    <tr>\n",
       "      <th>open</th>\n",
       "      <td>1</td>\n",
       "      <td>0</td>\n",
       "      <td>1</td>\n",
       "      <td>1</td>\n",
       "      <td>1</td>\n",
       "    </tr>\n",
       "    <tr>\n",
       "      <th>promo</th>\n",
       "      <td>0</td>\n",
       "      <td>1</td>\n",
       "      <td>0</td>\n",
       "      <td>1</td>\n",
       "      <td>0</td>\n",
       "    </tr>\n",
       "    <tr>\n",
       "      <th>state_holiday</th>\n",
       "      <td>0</td>\n",
       "      <td>a</td>\n",
       "      <td>0</td>\n",
       "      <td>0</td>\n",
       "      <td>0</td>\n",
       "    </tr>\n",
       "    <tr>\n",
       "      <th>school_holiday</th>\n",
       "      <td>0</td>\n",
       "      <td>0</td>\n",
       "      <td>0</td>\n",
       "      <td>0</td>\n",
       "      <td>0</td>\n",
       "    </tr>\n",
       "    <tr>\n",
       "      <th>store_type</th>\n",
       "      <td>a</td>\n",
       "      <td>a</td>\n",
       "      <td>a</td>\n",
       "      <td>a</td>\n",
       "      <td>d</td>\n",
       "    </tr>\n",
       "    <tr>\n",
       "      <th>assortment</th>\n",
       "      <td>a</td>\n",
       "      <td>c</td>\n",
       "      <td>a</td>\n",
       "      <td>c</td>\n",
       "      <td>a</td>\n",
       "    </tr>\n",
       "    <tr>\n",
       "      <th>competition_distance</th>\n",
       "      <td>13020.0</td>\n",
       "      <td>2230.0</td>\n",
       "      <td>50.0</td>\n",
       "      <td>620.0</td>\n",
       "      <td>18650.0</td>\n",
       "    </tr>\n",
       "    <tr>\n",
       "      <th>competition_open_since_month</th>\n",
       "      <td>8.0</td>\n",
       "      <td>5.0</td>\n",
       "      <td>12.0</td>\n",
       "      <td>5.0</td>\n",
       "      <td>4.0</td>\n",
       "    </tr>\n",
       "    <tr>\n",
       "      <th>competition_open_since_year</th>\n",
       "      <td>2003.0</td>\n",
       "      <td>2009.0</td>\n",
       "      <td>2005.0</td>\n",
       "      <td>2015.0</td>\n",
       "      <td>2004.0</td>\n",
       "    </tr>\n",
       "    <tr>\n",
       "      <th>promo2</th>\n",
       "      <td>1</td>\n",
       "      <td>1</td>\n",
       "      <td>1</td>\n",
       "      <td>1</td>\n",
       "      <td>1</td>\n",
       "    </tr>\n",
       "    <tr>\n",
       "      <th>promo2_since_week</th>\n",
       "      <td>40.0</td>\n",
       "      <td>40.0</td>\n",
       "      <td>26.0</td>\n",
       "      <td>1.0</td>\n",
       "      <td>14.0</td>\n",
       "    </tr>\n",
       "    <tr>\n",
       "      <th>promo2_since_year</th>\n",
       "      <td>2014.0</td>\n",
       "      <td>2014.0</td>\n",
       "      <td>2010.0</td>\n",
       "      <td>2014.0</td>\n",
       "      <td>2014.0</td>\n",
       "    </tr>\n",
       "    <tr>\n",
       "      <th>promo_interval</th>\n",
       "      <td>Jan,Apr,Jul,Oct</td>\n",
       "      <td>Jan,Apr,Jul,Oct</td>\n",
       "      <td>Jan,Apr,Jul,Oct</td>\n",
       "      <td>Mar,Jun,Sept,Dec</td>\n",
       "      <td>Jan,Apr,Jul,Oct</td>\n",
       "    </tr>\n",
       "    <tr>\n",
       "      <th>month_map</th>\n",
       "      <td>Jan</td>\n",
       "      <td>Jan</td>\n",
       "      <td>Fev</td>\n",
       "      <td>May</td>\n",
       "      <td>Jan</td>\n",
       "    </tr>\n",
       "    <tr>\n",
       "      <th>is_promo</th>\n",
       "      <td>1</td>\n",
       "      <td>1</td>\n",
       "      <td>0</td>\n",
       "      <td>0</td>\n",
       "      <td>1</td>\n",
       "    </tr>\n",
       "  </tbody>\n",
       "</table>\n",
       "</div>"
      ],
      "text/plain": [
       "                                           212283               230689  \\\n",
       "store                                         434                 1000   \n",
       "day_of_week                                     4                    2   \n",
       "date                          2015-01-22 00:00:00  2015-01-06 00:00:00   \n",
       "sales                                        8284                    0   \n",
       "customers                                     617                    0   \n",
       "open                                            1                    0   \n",
       "promo                                           0                    1   \n",
       "state_holiday                                   0                    a   \n",
       "school_holiday                                  0                    0   \n",
       "store_type                                      a                    a   \n",
       "assortment                                      a                    c   \n",
       "competition_distance                      13020.0               2230.0   \n",
       "competition_open_since_month                  8.0                  5.0   \n",
       "competition_open_since_year                2003.0               2009.0   \n",
       "promo2                                          1                    1   \n",
       "promo2_since_week                            40.0                 40.0   \n",
       "promo2_since_year                          2014.0               2014.0   \n",
       "promo_interval                    Jan,Apr,Jul,Oct      Jan,Apr,Jul,Oct   \n",
       "month_map                                     Jan                  Jan   \n",
       "is_promo                                        1                    1   \n",
       "\n",
       "                                           563421               82075   \\\n",
       "store                                          17                  681   \n",
       "day_of_week                                     2                    2   \n",
       "date                          2014-02-11 00:00:00  2015-05-19 00:00:00   \n",
       "sales                                        4934                 4683   \n",
       "customers                                     723                  576   \n",
       "open                                            1                    1   \n",
       "promo                                           0                    1   \n",
       "state_holiday                                   0                    0   \n",
       "school_holiday                                  0                    0   \n",
       "store_type                                      a                    a   \n",
       "assortment                                      a                    c   \n",
       "competition_distance                         50.0                620.0   \n",
       "competition_open_since_month                 12.0                  5.0   \n",
       "competition_open_since_year                2005.0               2015.0   \n",
       "promo2                                          1                    1   \n",
       "promo2_since_week                            26.0                  1.0   \n",
       "promo2_since_year                          2010.0               2014.0   \n",
       "promo_interval                    Jan,Apr,Jul,Oct     Mar,Jun,Sept,Dec   \n",
       "month_map                                     Fev                  May   \n",
       "is_promo                                        0                    0   \n",
       "\n",
       "                                           999712  \n",
       "store                                         343  \n",
       "day_of_week                                     3  \n",
       "date                          2013-01-16 00:00:00  \n",
       "sales                                        4333  \n",
       "customers                                     517  \n",
       "open                                            1  \n",
       "promo                                           0  \n",
       "state_holiday                                   0  \n",
       "school_holiday                                  0  \n",
       "store_type                                      d  \n",
       "assortment                                      a  \n",
       "competition_distance                      18650.0  \n",
       "competition_open_since_month                  4.0  \n",
       "competition_open_since_year                2004.0  \n",
       "promo2                                          1  \n",
       "promo2_since_week                            14.0  \n",
       "promo2_since_year                          2014.0  \n",
       "promo_interval                    Jan,Apr,Jul,Oct  \n",
       "month_map                                     Jan  \n",
       "is_promo                                        1  "
      ]
     },
     "execution_count": 15,
     "metadata": {},
     "output_type": "execute_result"
    }
   ],
   "source": [
    "df1.sample(5).T"
   ]
  },
  {
   "cell_type": "code",
   "execution_count": 16,
   "metadata": {},
   "outputs": [
    {
     "data": {
      "text/plain": [
       "store                           0\n",
       "day_of_week                     0\n",
       "date                            0\n",
       "sales                           0\n",
       "customers                       0\n",
       "open                            0\n",
       "promo                           0\n",
       "state_holiday                   0\n",
       "school_holiday                  0\n",
       "store_type                      0\n",
       "assortment                      0\n",
       "competition_distance            0\n",
       "competition_open_since_month    0\n",
       "competition_open_since_year     0\n",
       "promo2                          0\n",
       "promo2_since_week               0\n",
       "promo2_since_year               0\n",
       "promo_interval                  0\n",
       "month_map                       0\n",
       "is_promo                        0\n",
       "dtype: int64"
      ]
     },
     "execution_count": 16,
     "metadata": {},
     "output_type": "execute_result"
    }
   ],
   "source": [
    "df1.isna().sum()"
   ]
  },
  {
   "cell_type": "markdown",
   "metadata": {},
   "source": [
    "## 1.6 Tipos de Mudança"
   ]
  },
  {
   "cell_type": "code",
   "execution_count": 17,
   "metadata": {},
   "outputs": [
    {
     "data": {
      "text/plain": [
       "store                                    int64\n",
       "day_of_week                              int64\n",
       "date                            datetime64[ns]\n",
       "sales                                    int64\n",
       "customers                                int64\n",
       "open                                     int64\n",
       "promo                                    int64\n",
       "state_holiday                           object\n",
       "school_holiday                           int64\n",
       "store_type                              object\n",
       "assortment                              object\n",
       "competition_distance                   float64\n",
       "competition_open_since_month           float64\n",
       "competition_open_since_year            float64\n",
       "promo2                                   int64\n",
       "promo2_since_week                      float64\n",
       "promo2_since_year                      float64\n",
       "promo_interval                          object\n",
       "month_map                               object\n",
       "is_promo                                 int64\n",
       "dtype: object"
      ]
     },
     "execution_count": 17,
     "metadata": {},
     "output_type": "execute_result"
    }
   ],
   "source": [
    "df1.dtypes"
   ]
  },
  {
   "cell_type": "code",
   "execution_count": 18,
   "metadata": {},
   "outputs": [],
   "source": [
    "# transformar valores para inteiros\n",
    "df1['competition_open_since_month'] = df1['competition_open_since_month'].astype('int64')\n",
    "df1['competition_open_since_year'] = df1['competition_open_since_year'].astype('int64')\n",
    "df1['promo2_since_week'] = df1['promo2_since_week'].astype('int64')\n",
    "df1['promo2_since_year'] = df1['promo2_since_year'].astype('int64')"
   ]
  },
  {
   "cell_type": "markdown",
   "metadata": {},
   "source": [
    "## 1.7 Descrição Estatística dos dados"
   ]
  },
  {
   "cell_type": "markdown",
   "metadata": {},
   "source": [
    "Métricas de tendência central : \n",
    "\n",
    "- media \n",
    "- mediana\n",
    "\n",
    "Métricas de dispersão : \n",
    "\n",
    "- desvio padrão\n",
    "- valor minimo\n",
    "- valor máximo\n",
    "- faixa(range) \n",
    "- skew(inclinação)\n",
    "- curtose "
   ]
  },
  {
   "cell_type": "code",
   "execution_count": 20,
   "metadata": {},
   "outputs": [],
   "source": [
    "numericos = df1.select_dtypes(include=['int64','float64' ])\n",
    "categoricos = df1.select_dtypes(exclude=['int64','float64','datetime64[ns]'])"
   ]
  },
  {
   "cell_type": "markdown",
   "metadata": {},
   "source": [
    "### 1.7.1. Atributos Numéricos"
   ]
  },
  {
   "cell_type": "code",
   "execution_count": 21,
   "metadata": {},
   "outputs": [],
   "source": [
    "# Métricas de tendência central \n",
    "media = pd.DataFrame ( numericos.apply(np.mean)).T\n",
    "mediana = pd.DataFrame ( numericos.apply(np.median)).T"
   ]
  },
  {
   "cell_type": "code",
   "execution_count": 22,
   "metadata": {},
   "outputs": [],
   "source": [
    "# Métricas de dispersão\n",
    "desvio_padrao = pd.DataFrame ( numericos.apply(np.std)).T\n",
    "minimo = pd.DataFrame ( numericos.apply(min)).T\n",
    "maximo = pd.DataFrame ( numericos.apply(max)).T\n",
    "faixa = pd.DataFrame ( numericos.apply(lambda x: x.max() - x.min())).T\n",
    "inclinação = pd.DataFrame ( numericos.apply(lambda x: x.skew() )).T\n",
    "curtose = pd.DataFrame ( numericos.apply(lambda x: x.kurtosis())).T"
   ]
  },
  {
   "cell_type": "code",
   "execution_count": 23,
   "metadata": {},
   "outputs": [
    {
     "data": {
      "text/html": [
       "<div>\n",
       "<style scoped>\n",
       "    .dataframe tbody tr th:only-of-type {\n",
       "        vertical-align: middle;\n",
       "    }\n",
       "\n",
       "    .dataframe tbody tr th {\n",
       "        vertical-align: top;\n",
       "    }\n",
       "\n",
       "    .dataframe thead th {\n",
       "        text-align: right;\n",
       "    }\n",
       "</style>\n",
       "<table border=\"1\" class=\"dataframe\">\n",
       "  <thead>\n",
       "    <tr style=\"text-align: right;\">\n",
       "      <th></th>\n",
       "      <th>attributes</th>\n",
       "      <th>min</th>\n",
       "      <th>max</th>\n",
       "      <th>range</th>\n",
       "      <th>mean</th>\n",
       "      <th>median</th>\n",
       "      <th>std</th>\n",
       "      <th>skew</th>\n",
       "      <th>kurtosis</th>\n",
       "    </tr>\n",
       "  </thead>\n",
       "  <tbody>\n",
       "    <tr>\n",
       "      <th>0</th>\n",
       "      <td>store</td>\n",
       "      <td>1.0</td>\n",
       "      <td>1115.0</td>\n",
       "      <td>1114.0</td>\n",
       "      <td>558.429727</td>\n",
       "      <td>558.0</td>\n",
       "      <td>321.908493</td>\n",
       "      <td>-0.000955</td>\n",
       "      <td>-1.200524</td>\n",
       "    </tr>\n",
       "    <tr>\n",
       "      <th>1</th>\n",
       "      <td>day_of_week</td>\n",
       "      <td>1.0</td>\n",
       "      <td>7.0</td>\n",
       "      <td>6.0</td>\n",
       "      <td>3.998341</td>\n",
       "      <td>4.0</td>\n",
       "      <td>1.997390</td>\n",
       "      <td>0.001593</td>\n",
       "      <td>-1.246873</td>\n",
       "    </tr>\n",
       "    <tr>\n",
       "      <th>2</th>\n",
       "      <td>sales</td>\n",
       "      <td>0.0</td>\n",
       "      <td>41551.0</td>\n",
       "      <td>41551.0</td>\n",
       "      <td>5773.818972</td>\n",
       "      <td>5744.0</td>\n",
       "      <td>3849.924283</td>\n",
       "      <td>0.641460</td>\n",
       "      <td>1.778375</td>\n",
       "    </tr>\n",
       "    <tr>\n",
       "      <th>3</th>\n",
       "      <td>customers</td>\n",
       "      <td>0.0</td>\n",
       "      <td>7388.0</td>\n",
       "      <td>7388.0</td>\n",
       "      <td>633.145946</td>\n",
       "      <td>609.0</td>\n",
       "      <td>464.411506</td>\n",
       "      <td>1.598650</td>\n",
       "      <td>7.091773</td>\n",
       "    </tr>\n",
       "    <tr>\n",
       "      <th>4</th>\n",
       "      <td>open</td>\n",
       "      <td>0.0</td>\n",
       "      <td>1.0</td>\n",
       "      <td>1.0</td>\n",
       "      <td>0.830107</td>\n",
       "      <td>1.0</td>\n",
       "      <td>0.375539</td>\n",
       "      <td>-1.758045</td>\n",
       "      <td>1.090723</td>\n",
       "    </tr>\n",
       "    <tr>\n",
       "      <th>5</th>\n",
       "      <td>promo</td>\n",
       "      <td>0.0</td>\n",
       "      <td>1.0</td>\n",
       "      <td>1.0</td>\n",
       "      <td>0.381515</td>\n",
       "      <td>0.0</td>\n",
       "      <td>0.485758</td>\n",
       "      <td>0.487838</td>\n",
       "      <td>-1.762018</td>\n",
       "    </tr>\n",
       "    <tr>\n",
       "      <th>6</th>\n",
       "      <td>school_holiday</td>\n",
       "      <td>0.0</td>\n",
       "      <td>1.0</td>\n",
       "      <td>1.0</td>\n",
       "      <td>0.178647</td>\n",
       "      <td>0.0</td>\n",
       "      <td>0.383056</td>\n",
       "      <td>1.677842</td>\n",
       "      <td>0.815154</td>\n",
       "    </tr>\n",
       "    <tr>\n",
       "      <th>7</th>\n",
       "      <td>competition_distance</td>\n",
       "      <td>20.0</td>\n",
       "      <td>200000.0</td>\n",
       "      <td>199980.0</td>\n",
       "      <td>5935.442677</td>\n",
       "      <td>2330.0</td>\n",
       "      <td>12547.646829</td>\n",
       "      <td>10.242344</td>\n",
       "      <td>147.789712</td>\n",
       "    </tr>\n",
       "    <tr>\n",
       "      <th>8</th>\n",
       "      <td>competition_open_since_month</td>\n",
       "      <td>1.0</td>\n",
       "      <td>12.0</td>\n",
       "      <td>11.0</td>\n",
       "      <td>6.786849</td>\n",
       "      <td>7.0</td>\n",
       "      <td>3.311085</td>\n",
       "      <td>-0.042076</td>\n",
       "      <td>-1.232607</td>\n",
       "    </tr>\n",
       "    <tr>\n",
       "      <th>9</th>\n",
       "      <td>competition_open_since_year</td>\n",
       "      <td>1900.0</td>\n",
       "      <td>2015.0</td>\n",
       "      <td>115.0</td>\n",
       "      <td>2010.324840</td>\n",
       "      <td>2012.0</td>\n",
       "      <td>5.515591</td>\n",
       "      <td>-7.235657</td>\n",
       "      <td>124.071304</td>\n",
       "    </tr>\n",
       "    <tr>\n",
       "      <th>10</th>\n",
       "      <td>promo2</td>\n",
       "      <td>0.0</td>\n",
       "      <td>1.0</td>\n",
       "      <td>1.0</td>\n",
       "      <td>0.500564</td>\n",
       "      <td>1.0</td>\n",
       "      <td>0.500000</td>\n",
       "      <td>-0.002255</td>\n",
       "      <td>-1.999999</td>\n",
       "    </tr>\n",
       "    <tr>\n",
       "      <th>11</th>\n",
       "      <td>promo2_since_week</td>\n",
       "      <td>1.0</td>\n",
       "      <td>52.0</td>\n",
       "      <td>51.0</td>\n",
       "      <td>23.619033</td>\n",
       "      <td>22.0</td>\n",
       "      <td>14.310057</td>\n",
       "      <td>0.178723</td>\n",
       "      <td>-1.184046</td>\n",
       "    </tr>\n",
       "    <tr>\n",
       "      <th>12</th>\n",
       "      <td>promo2_since_year</td>\n",
       "      <td>2009.0</td>\n",
       "      <td>2015.0</td>\n",
       "      <td>6.0</td>\n",
       "      <td>2012.793297</td>\n",
       "      <td>2013.0</td>\n",
       "      <td>1.662657</td>\n",
       "      <td>-0.784436</td>\n",
       "      <td>-0.210075</td>\n",
       "    </tr>\n",
       "    <tr>\n",
       "      <th>13</th>\n",
       "      <td>is_promo</td>\n",
       "      <td>0.0</td>\n",
       "      <td>1.0</td>\n",
       "      <td>1.0</td>\n",
       "      <td>0.155231</td>\n",
       "      <td>0.0</td>\n",
       "      <td>0.362124</td>\n",
       "      <td>1.904152</td>\n",
       "      <td>1.625796</td>\n",
       "    </tr>\n",
       "  </tbody>\n",
       "</table>\n",
       "</div>"
      ],
      "text/plain": [
       "                      attributes     min       max     range         mean  \\\n",
       "0                          store     1.0    1115.0    1114.0   558.429727   \n",
       "1                    day_of_week     1.0       7.0       6.0     3.998341   \n",
       "2                          sales     0.0   41551.0   41551.0  5773.818972   \n",
       "3                      customers     0.0    7388.0    7388.0   633.145946   \n",
       "4                           open     0.0       1.0       1.0     0.830107   \n",
       "5                          promo     0.0       1.0       1.0     0.381515   \n",
       "6                 school_holiday     0.0       1.0       1.0     0.178647   \n",
       "7           competition_distance    20.0  200000.0  199980.0  5935.442677   \n",
       "8   competition_open_since_month     1.0      12.0      11.0     6.786849   \n",
       "9    competition_open_since_year  1900.0    2015.0     115.0  2010.324840   \n",
       "10                        promo2     0.0       1.0       1.0     0.500564   \n",
       "11             promo2_since_week     1.0      52.0      51.0    23.619033   \n",
       "12             promo2_since_year  2009.0    2015.0       6.0  2012.793297   \n",
       "13                      is_promo     0.0       1.0       1.0     0.155231   \n",
       "\n",
       "    median           std       skew    kurtosis  \n",
       "0    558.0    321.908493  -0.000955   -1.200524  \n",
       "1      4.0      1.997390   0.001593   -1.246873  \n",
       "2   5744.0   3849.924283   0.641460    1.778375  \n",
       "3    609.0    464.411506   1.598650    7.091773  \n",
       "4      1.0      0.375539  -1.758045    1.090723  \n",
       "5      0.0      0.485758   0.487838   -1.762018  \n",
       "6      0.0      0.383056   1.677842    0.815154  \n",
       "7   2330.0  12547.646829  10.242344  147.789712  \n",
       "8      7.0      3.311085  -0.042076   -1.232607  \n",
       "9   2012.0      5.515591  -7.235657  124.071304  \n",
       "10     1.0      0.500000  -0.002255   -1.999999  \n",
       "11    22.0     14.310057   0.178723   -1.184046  \n",
       "12  2013.0      1.662657  -0.784436   -0.210075  \n",
       "13     0.0      0.362124   1.904152    1.625796  "
      ]
     },
     "execution_count": 23,
     "metadata": {},
     "output_type": "execute_result"
    }
   ],
   "source": [
    "#Concatenar\n",
    "metricas = pd.concat([minimo, maximo, faixa, media, mediana, desvio_padrao, inclinação, curtose ]).T.reset_index()\n",
    "metricas.columns = ['attributes','min','max','range','mean', 'median', 'std', 'skew','kurtosis' ]\n",
    "metricas"
   ]
  },
  {
   "cell_type": "markdown",
   "metadata": {},
   "source": [
    "### 1.7.2. Atributos Categóricos"
   ]
  },
  {
   "cell_type": "code",
   "execution_count": 24,
   "metadata": {},
   "outputs": [
    {
     "data": {
      "text/plain": [
       "state_holiday      4\n",
       "store_type         4\n",
       "assortment         3\n",
       "promo_interval     4\n",
       "month_map         12\n",
       "dtype: int64"
      ]
     },
     "execution_count": 24,
     "metadata": {},
     "output_type": "execute_result"
    }
   ],
   "source": [
    "# Quantos niveis cada variável categorica possui ?\n",
    "categoricos.apply( lambda x: x.unique().shape[0] )"
   ]
  },
  {
   "cell_type": "code",
   "execution_count": 28,
   "metadata": {},
   "outputs": [
    {
     "data": {
      "text/plain": [
       "<Axes: xlabel='assortment', ylabel='sales'>"
      ]
     },
     "execution_count": 28,
     "metadata": {},
     "output_type": "execute_result"
    },
    {
     "data": {
      "image/png": "[encoded data removed]",
      "text/plain": [
       "<Figure size 2500x1200 with 3 Axes>"
      ]
     },
     "metadata": {},
     "output_type": "display_data"
    }
   ],
   "source": [
    "filtro = df1[(df1['state_holiday'] != '0') & (df1['sales'] > 0)]\n",
    "\n",
    "plt.subplot(1, 3, 1)\n",
    "sns.boxplot(x='state_holiday', y='sales', data=filtro, hue='state_holiday', palette='deep', legend=False)\n",
    "\n",
    "plt.subplot( 1, 3, 2 )\n",
    "sns.boxplot( x='store_type', y='sales', data=filtro, hue='store_type', palette='deep', legend=False)\n",
    "\n",
    "plt.subplot( 1, 3, 3 )\n",
    "sns.boxplot( x='assortment', y='sales', data=filtro, hue='assortment', palette='deep', legend=False)"
   ]
  }
 ],
 "metadata": {
  "kernelspec": {
   "display_name": "Python 3",
   "language": "python",
   "name": "python3"
  },
  "language_info": {
   "codemirror_mode": {
    "name": "ipython",
    "version": 3
   },
   "file_extension": ".py",
   "mimetype": "text/x-python",
   "name": "python",
   "nbconvert_exporter": "python",
   "pygments_lexer": "ipython3",
   "version": "3.12.1"
  }
 },
 "nbformat": 4,
 "nbformat_minor": 2
}
